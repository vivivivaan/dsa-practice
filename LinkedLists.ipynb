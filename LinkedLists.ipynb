{
 "cells": [
  {
   "cell_type": "code",
   "execution_count": null,
   "metadata": {},
   "outputs": [],
   "source": [
    "class Node:\n",
    "    def __init__(self, data):\n",
    "        self.data = data\n",
    "        self.previous = self\n",
    "        self.next = self"
   ]
  },
  {
   "cell_type": "code",
   "execution_count": 219,
   "metadata": {},
   "outputs": [],
   "source": [
    "class DCLL:\n",
    "    def __init__(self, data):\n",
    "        node = Node(data)\n",
    "        self.head = node\n",
    "        self.tail = node\n",
    "        self.len = 1\n",
    "        \n",
    "    def _print(self):\n",
    "        head = self.head\n",
    "        while head is not None:\n",
    "            print(head.data)\n",
    "            head = head.next\n",
    "            if head == self.head:\n",
    "                print(f'{head.data} (tail.next == head)')\n",
    "                return\n",
    "            \n",
    "    def _append(self, data):\n",
    "        node = Node(data)\n",
    "        if self.len != 0:\n",
    "            self.tail.next = node\n",
    "            self.tail = node\n",
    "            node.next = self.head\n",
    "            self.head.previous = self.tail\n",
    "        else:\n",
    "            self.head = self.tail = node\n",
    "        self.len += 1\n",
    "    \n",
    "    def _prepend(self, data):\n",
    "        node = Node(data)\n",
    "        if self.len != 0:\n",
    "            self.tail.next = node\n",
    "            node.previous = self.tail\n",
    "            node.next = self.head\n",
    "            self.head = node\n",
    "        else:\n",
    "            self.head = self.tail = node\n",
    "        self.len += 1\n",
    "    \n",
    "    def _pop(self):\n",
    "        head = self.head\n",
    "        if self.len == 0:\n",
    "            return None\n",
    "        \n",
    "        if self.len == 1:\n",
    "            self.head = self.tail = None\n",
    "        else:\n",
    "            self.head = head.next\n",
    "            self.tail.next = head.next\n",
    "            self.head.previous = self.tail\n",
    "            head.previous = head.next = None\n",
    "        self.len -= 1\n",
    "        return head\n",
    "            \n",
    "    \n",
    "    def pop_(self):\n",
    "        tail = self.tail\n",
    "        if self.len == 0:\n",
    "            return None\n",
    "        \n",
    "        if self.len == 1:\n",
    "            self.head = self.tail = None\n",
    "        else:\n",
    "            head = self.head\n",
    "            while head.next != self.tail:\n",
    "                head = head.next\n",
    "            self.tail = head\n",
    "            self.tail.next = self.head\n",
    "            self.head.previous = self.tail\n",
    "            tail.previous = tail.next = None\n",
    "        self.len -= 1\n",
    "        return tail\n",
    "    \n",
    "    def _"
   ]
  },
  {
   "cell_type": "code",
   "execution_count": 220,
   "metadata": {},
   "outputs": [],
   "source": [
    "dcll = DCLL(100)"
   ]
  },
  {
   "cell_type": "code",
   "execution_count": 221,
   "metadata": {},
   "outputs": [],
   "source": [
    "for i in range(200, 700, 100):\n",
    "    dcll._append(i)"
   ]
  },
  {
   "cell_type": "code",
   "execution_count": 222,
   "metadata": {},
   "outputs": [
    {
     "name": "stdout",
     "output_type": "stream",
     "text": [
      "100\n",
      "200\n",
      "300\n",
      "400\n",
      "500\n",
      "600\n",
      "100 (tail.next == head)\n"
     ]
    }
   ],
   "source": [
    "dcll._print()"
   ]
  },
  {
   "cell_type": "code",
   "execution_count": 223,
   "metadata": {},
   "outputs": [
    {
     "data": {
      "text/plain": [
       "600"
      ]
     },
     "execution_count": 223,
     "metadata": {},
     "output_type": "execute_result"
    }
   ],
   "source": [
    "dcll.pop_().data"
   ]
  },
  {
   "cell_type": "code",
   "execution_count": 224,
   "metadata": {},
   "outputs": [
    {
     "name": "stdout",
     "output_type": "stream",
     "text": [
      "100\n",
      "200\n",
      "300\n",
      "400\n",
      "500\n",
      "100 (tail.next == head)\n"
     ]
    }
   ],
   "source": [
    "dcll._print()"
   ]
  },
  {
   "cell_type": "code",
   "execution_count": null,
   "metadata": {},
   "outputs": [],
   "source": []
  }
 ],
 "metadata": {
  "kernelspec": {
   "display_name": "Python 3",
   "language": "python",
   "name": "python3"
  },
  "language_info": {
   "codemirror_mode": {
    "name": "ipython",
    "version": 3
   },
   "file_extension": ".py",
   "mimetype": "text/x-python",
   "name": "python",
   "nbconvert_exporter": "python",
   "pygments_lexer": "ipython3",
   "version": "3.12.3"
  }
 },
 "nbformat": 4,
 "nbformat_minor": 2
}
